{
 "cells": [
  {
   "cell_type": "code",
   "execution_count": 1,
   "metadata": {},
   "outputs": [],
   "source": [
    "####################################################################################################################\n",
    "#                           Data = {Title: (Season,Episode,Text,Description)}                                      #\n",
    "####################################################################################################################"
   ]
  },
  {
   "cell_type": "code",
   "execution_count": 2,
   "metadata": {},
   "outputs": [],
   "source": [
    "\n",
    "import pandas as pd"
   ]
  },
  {
   "cell_type": "code",
   "execution_count": 3,
   "metadata": {},
   "outputs": [],
   "source": [
    "Episodes = pd.read_csv(\"../Data/SouthPark_Episodes.csv\")\n",
    "Episodes = Episodes[[\"Title\",\"Season\",\"Episode\",\"Description\"]]\n",
    "Lines = pd.read_csv(\"../Data/SouthPark_Lines.csv\")"
   ]
  },
  {
   "cell_type": "code",
   "execution_count": 4,
   "metadata": {},
   "outputs": [],
   "source": [
    "def lines_to_text(lines):\n",
    "    text = \"\"\n",
    "    for line in lines.iterrows():\n",
    "        line = line[1]\n",
    "        text += line[\"Character\"]+\": \"+str(line[\"Line\"]) + \"\\n\"\n",
    "    return text"
   ]
  },
  {
   "cell_type": "code",
   "execution_count": 5,
   "metadata": {},
   "outputs": [],
   "source": [
    "data = {}\n",
    "for episode in Episodes.iterrows():\n",
    "    episode = episode[1]\n",
    "    episode_lines = Lines[Lines[\"Title\"] == episode[\"Title\"]]\n",
    "    data[episode[\"Title\"]] = (episode[\"Season\"],episode[\"Episode\"], lines_to_text(episode_lines),episode[\"Description\"])\n"
   ]
  },
  {
   "cell_type": "code",
   "execution_count": null,
   "metadata": {},
   "outputs": [],
   "source": [
    "def get_episodes_from_season(season,data):\n",
    "    return [data[episode] for episode in data if data[episode][0] == season]"
   ]
  },
  {
   "cell_type": "code",
   "execution_count": null,
   "metadata": {},
   "outputs": [],
   "source": [
    "import random\n",
    "def split_data(data, n_test_from_each_season=2):\n",
    "    train_data = {}\n",
    "    test_data = {}\n",
    "    test_selected = []\n",
    "    for season in range(1,24):\n",
    "        episodes = get_episodes_from_season(season,data)  \n",
    "        for i in range(n_test_from_each_season):\n",
    "            while True:\n",
    "                episode = random.choice(episodes)\n",
    "                if episode not in test_selected:\n",
    "                    test_selected.append(episode)\n",
    "                    break\n",
    "    \n",
    "    for episode in data:\n",
    "        if data[episode] in test_selected or episode == \"The Pandemic Special\":\n",
    "            test_data[episode] = data[episode]\n",
    "        else:\n",
    "            train_data[episode] = data[episode]\n",
    "\n",
    "    return train_data, test_data"
   ]
  },
  {
   "cell_type": "code",
   "execution_count": null,
   "metadata": {},
   "outputs": [],
   "source": [
    "train,test = split_data(data)"
   ]
  },
  {
   "cell_type": "code",
   "execution_count": null,
   "metadata": {},
   "outputs": [],
   "source": [
    "import pickle\n",
    "pickle.dump(train, open(\"../Data/SouthPark_Data_train.pkl\", \"wb\"))\n",
    "pickle.dump(test, open(\"../Data/SouthPark_Data_test.pkl\", \"wb\"))"
   ]
  }
 ],
 "metadata": {
  "kernelspec": {
   "display_name": "Python 3.9.7 ('ai')",
   "language": "python",
   "name": "python3"
  },
  "language_info": {
   "codemirror_mode": {
    "name": "ipython",
    "version": 3
   },
   "file_extension": ".py",
   "mimetype": "text/x-python",
   "name": "python",
   "nbconvert_exporter": "python",
   "pygments_lexer": "ipython3",
   "version": "3.9.7"
  },
  "orig_nbformat": 4,
  "vscode": {
   "interpreter": {
    "hash": "da090f050559786aa9031213f726c80bef2475398317cb1ead5e27a23b45e9d7"
   }
  }
 },
 "nbformat": 4,
 "nbformat_minor": 2
}
