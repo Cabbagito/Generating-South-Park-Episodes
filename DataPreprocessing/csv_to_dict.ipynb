{
 "cells": [
  {
   "cell_type": "code",
   "execution_count": 2,
   "metadata": {},
   "outputs": [],
   "source": [
    "# Data = {Title: (Season,Episode,Text,Description)}\n",
    "import pandas as pd"
   ]
  },
  {
   "cell_type": "code",
   "execution_count": 3,
   "metadata": {},
   "outputs": [],
   "source": [
    "Episodes = pd.read_csv(\"../Data/SouthPark_Episodes.csv\")\n",
    "Episodes = Episodes[[\"Title\",\"Season\",\"Episode\",\"Description\"]]"
   ]
  },
  {
   "cell_type": "code",
   "execution_count": 4,
   "metadata": {},
   "outputs": [],
   "source": [
    "Lines = pd.read_csv(\"../Data/SouthPark_Lines.csv\")"
   ]
  },
  {
   "cell_type": "code",
   "execution_count": 5,
   "metadata": {},
   "outputs": [],
   "source": [
    "def lines_to_text(lines):\n",
    "    text = \"\"\n",
    "    for line in lines.iterrows():\n",
    "        line = line[1]\n",
    "        text += line[\"Character\"]+\": \"+str(line[\"Line\"]) + \"\\n\"\n",
    "    return text"
   ]
  },
  {
   "cell_type": "code",
   "execution_count": 6,
   "metadata": {},
   "outputs": [],
   "source": [
    "data = {}\n",
    "for episode in Episodes.iterrows():\n",
    "    episode = episode[1]\n",
    "    episode_lines = Lines[Lines[\"Title\"] == episode[\"Title\"]]\n",
    "    data[episode[\"Title\"]] = (episode[\"Season\"],episode[\"Episode\"], lines_to_text(episode_lines),episode[\"Description\"])\n"
   ]
  },
  {
   "cell_type": "code",
   "execution_count": 11,
   "metadata": {},
   "outputs": [],
   "source": [
    "import pickle\n",
    "pickle.dump(data, open(\"../Data/SouthPark_Data.pkl\", \"wb\"))"
   ]
  },
  {
   "cell_type": "code",
   "execution_count": 12,
   "metadata": {},
   "outputs": [],
   "source": [
    "loaded_data = pickle.load(open(\"../Data/SouthPark_Data.pkl\", \"rb\"))"
   ]
  }
 ],
 "metadata": {
  "kernelspec": {
   "display_name": "Python 3.9.7 ('ai')",
   "language": "python",
   "name": "python3"
  },
  "language_info": {
   "codemirror_mode": {
    "name": "ipython",
    "version": 3
   },
   "file_extension": ".py",
   "mimetype": "text/x-python",
   "name": "python",
   "nbconvert_exporter": "python",
   "pygments_lexer": "ipython3",
   "version": "3.9.7"
  },
  "orig_nbformat": 4,
  "vscode": {
   "interpreter": {
    "hash": "da090f050559786aa9031213f726c80bef2475398317cb1ead5e27a23b45e9d7"
   }
  }
 },
 "nbformat": 4,
 "nbformat_minor": 2
}
